{
 "cells": [
  {
   "cell_type": "markdown",
   "metadata": {
    "tags": []
   },
   "source": [
    "# Sciris demo\n",
    "\n",
    "This file demonstrates some of the main features of Sciris. For more information, please see the tutorials:\n",
    "\n",
    "http://docs.sciris.org/tutorials"
   ]
  },
  {
   "cell_type": "markdown",
   "metadata": {},
   "source": [
    "## Getting started\n",
    "\n",
    "First, let's make sure Sciris is installed:"
   ]
  },
  {
   "cell_type": "code",
   "execution_count": null,
   "metadata": {
    "tags": []
   },
   "outputs": [],
   "source": [
    "%pip install sciris"
   ]
  },
  {
   "cell_type": "markdown",
   "metadata": {},
   "source": [
    "## Array indexing"
   ]
  },
  {
   "cell_type": "code",
   "execution_count": null,
   "metadata": {
    "tags": []
   },
   "outputs": [],
   "source": [
    "import numpy as np\n",
    "import sciris as sc\n",
    "\n",
    "minval = 0.9\n",
    "data = np.random.rand(50)"
   ]
  },
  {
   "cell_type": "code",
   "execution_count": null,
   "metadata": {
    "tags": []
   },
   "outputs": [],
   "source": [
    "# Without Sciris\n",
    "inds = np.nonzero(data>minval)[0]\n",
    "print(f'The indices over {minval} were {\", \".join([str(i) for i in inds])}.')"
   ]
  },
  {
   "cell_type": "code",
   "execution_count": null,
   "metadata": {
    "tags": []
   },
   "outputs": [],
   "source": [
    "# With Sciris\n",
    "inds = sc.findinds(data>minval)\n",
    "print(f'The indices over {minval} were {sc.strjoin(inds)}.')"
   ]
  },
  {
   "cell_type": "markdown",
   "metadata": {
    "tags": []
   },
   "source": [
    "## Powerful containers"
   ]
  },
  {
   "cell_type": "code",
   "execution_count": null,
   "metadata": {
    "tags": []
   },
   "outputs": [],
   "source": [
    "data = sc.objdict(a=[1,2,3], b=[4,5,6]) \n",
    "print(data)"
   ]
  },
  {
   "cell_type": "code",
   "execution_count": null,
   "metadata": {
    "tags": []
   },
   "outputs": [],
   "source": [
    "assert data.a == data['a'] == data[0] # Flexible options for indexing\n",
    "assert data[:].sum() == 21 # You can sum a dict!\n",
    "for i, key, value in data.enumitems():\n",
    "  print(f'Item {i} is named \"{key}\" and has value {value}')"
   ]
  },
  {
   "cell_type": "code",
   "execution_count": null,
   "metadata": {
    "tags": []
   },
   "outputs": [],
   "source": [
    "import pylab as pl # Equivalent to \"import matplotlib.pyplot as plt\", but easier to type!\n",
    "import pandas as pd\n",
    "\n",
    "# Create some data\n",
    "values = 1e6*np.random.randn(31+28)**2 # Generate some values\n",
    "outliers = values > 2*values.mean() # Find outliers"
   ]
  },
  {
   "cell_type": "code",
   "execution_count": null,
   "metadata": {
    "tags": []
   },
   "outputs": [],
   "source": [
    "# Plot without Sciris\n",
    "dates = pd.date_range('2022-01-01', '2022-02-28') # Create a list of dates\n",
    "data = pd.DataFrame(dict(x=dates, y=values, outliers=outliers)) # Shortcut to pd.DataFrame\n",
    "pl.scatter(data.x, data.y, c=data.outliers) # Vanilla Matplotlib!\n",
    "pl.show()"
   ]
  },
  {
   "cell_type": "code",
   "execution_count": null,
   "metadata": {
    "tags": []
   },
   "outputs": [],
   "source": [
    "# Plot with Sciris\n",
    "sc.options(jupyter=True) # Use higher-resolution plotting\n",
    "dates = sc.daterange('2022-01-01', '2022-02-28', as_date=True) # Create a list of dates\n",
    "data = sc.dataframe(x=dates, y=values, outliers=outliers) # Shortcut to pd.DataFrame\n",
    "pl.scatter(data.x, data.y, c=data.outliers) # Vanilla Matplotlib!\n",
    "sc.dateformatter() # Format a date axis nicely\n",
    "sc.commaticks() # Convert the y-axis to use commas\n",
    "sc.boxoff() # Turn off the box around the plot\n",
    "sc.setylim() # Set y-limit (tight by default)\n",
    "pl.show()"
   ]
  },
  {
   "cell_type": "markdown",
   "metadata": {},
   "source": [
    "## Loading and saving"
   ]
  },
  {
   "cell_type": "code",
   "execution_count": null,
   "metadata": {
    "tags": []
   },
   "outputs": [],
   "source": [
    "class Sim:\n",
    "    \n",
    "    def __init__(self, days, trials):\n",
    "        self.days = days\n",
    "        self.trials = trials\n",
    "    \n",
    "    def run(self):\n",
    "        self.x = np.arange(self.days)\n",
    "        self.y = np.cumsum(np.random.randn(self.days, self.trials)**3, axis=0)\n",
    "    \n",
    "    def plot(self):\n",
    "        with pl.style.context('sciris.fancy'): # Custom plot style\n",
    "            pl.plot(self.x, self.y, alpha=0.6)\n",
    "\n",
    "sim = Sim(days=100, trials=10)\n",
    "sim.run()\n",
    "sim.plot()"
   ]
  },
  {
   "cell_type": "code",
   "execution_count": null,
   "metadata": {
    "tags": []
   },
   "outputs": [],
   "source": [
    "# Save\n",
    "sc.save('my-sim.obj', sim) # Save any Python object to disk\n",
    "\n",
    "# Load and plot\n",
    "new_sim = sc.load('my-sim.obj') # Load any Python object\n",
    "new_sim.plot()"
   ]
  },
  {
   "cell_type": "code",
   "execution_count": null,
   "metadata": {
    "tags": []
   },
   "outputs": [],
   "source": [
    "# We can keep using the same object as new\n",
    "new_sim.run()\n",
    "new_sim.plot()"
   ]
  },
  {
   "cell_type": "markdown",
   "metadata": {},
   "source": [
    "## Parallelization"
   ]
  },
  {
   "cell_type": "code",
   "execution_count": null,
   "metadata": {
    "tags": []
   },
   "outputs": [],
   "source": [
    "# Define the function to parallelize\n",
    "def func(scale, x_offset, y_offset):\n",
    "    np.random.seed(scale)\n",
    "    data = sc.objdict() # Note the use of objdict to create a convenient container\n",
    "    data.scale = scale\n",
    "    data.x = x_offset+scale*np.random.randn(100)\n",
    "    data.y = y_offset+scale*np.random.randn(100)\n",
    "    return data\n",
    "\n",
    "x_offset = 5\n",
    "y_offset = 10\n",
    "scales = [40,30,20,10] # Reverse order is easier to see when plotted"
   ]
  },
  {
   "cell_type": "code",
   "execution_count": null,
   "metadata": {
    "tags": []
   },
   "outputs": [],
   "source": [
    "# Run in parallel without Sciris\n",
    "arglist = [] # Construct arguments\n",
    "for scale in scales:\n",
    "    args = (scale, x_offset, y_offset)\n",
    "    arglist.append(args)\n",
    "\n",
    "def helper_func(args):\n",
    "    return func(*args)\n",
    "\n",
    "import concurrent.futures\n",
    "with concurrent.futures.ProcessPoolExecutor() as executor:\n",
    "    futures = executor.map(helper_func, arglist)\n",
    "    results1 = list(futures)"
   ]
  },
  {
   "cell_type": "code",
   "execution_count": null,
   "metadata": {
    "tags": []
   },
   "outputs": [],
   "source": [
    "# Run in parallel with Sciris\n",
    "results = sc.parallelize(func, scales, x_offset=x_offset, y_offset=y_offset)\n",
    "\n",
    "# Plot\n",
    "for data in results:\n",
    "    pl.scatter(data.x, data.y, alpha=0.5, label=f'Scale {data.scale}')"
   ]
  },
  {
   "cell_type": "markdown",
   "metadata": {},
   "source": [
    "## Putting it all together\n",
    "\n",
    "Here's the \"showcase\" example of the wave generator from the [getting started](http://docs.sciris.org/overview.html) page, which hopefully now makes more sense!"
   ]
  },
  {
   "cell_type": "code",
   "execution_count": null,
   "metadata": {},
   "outputs": [],
   "source": [
    "# Define random wave generator\n",
    "def randwave(std, xmin=0, xmax=10, npts=50):\n",
    "    np.random.seed(int(100*std)) # Ensure differences between runs\n",
    "    a = np.cos(np.linspace(xmin, xmax, npts))\n",
    "    b = np.random.randn(npts)\n",
    "    return a + b*std\n",
    "\n",
    "# Start timing\n",
    "T = sc.timer()\n",
    "\n",
    "# Calculate output in parallel\n",
    "waves = sc.parallelize(randwave, np.linspace(0, 1, 11))\n",
    "\n",
    "# Save to files\n",
    "filenames = [sc.save(f'wave{i}.obj', wave) for i,wave in enumerate(waves)]\n",
    "\n",
    "# Create dict from files\n",
    "data = sc.odict({fname:sc.load(fname) for fname in filenames})\n",
    "\n",
    "# Create 3D plot\n",
    "sc.surf3d(data[:], cmap='orangeblue')\n",
    "pl.show()\n",
    "\n",
    "# Print elapsed time\n",
    "T.toc('Congratulations, you finished the first tutorial')"
   ]
  }
 ],
 "metadata": {
  "kernelspec": {
   "display_name": "Python 3 (ipykernel)",
   "language": "python",
   "name": "python3"
  },
  "language_info": {
   "codemirror_mode": {
    "name": "ipython",
    "version": 3
   },
   "file_extension": ".py",
   "mimetype": "text/x-python",
   "name": "python",
   "nbconvert_exporter": "python",
   "pygments_lexer": "ipython3",
   "version": "3.11.3"
  },
  "toc": {
   "base_numbering": 1,
   "nav_menu": {},
   "number_sections": true,
   "sideBar": true,
   "skip_h1_title": false,
   "title_cell": "Table of Contents",
   "title_sidebar": "Contents",
   "toc_cell": false,
   "toc_position": {},
   "toc_section_display": true,
   "toc_window_display": false
  }
 },
 "nbformat": 4,
 "nbformat_minor": 4
}
