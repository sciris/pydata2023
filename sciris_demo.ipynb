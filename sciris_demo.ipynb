{
 "cells": [
  {
   "cell_type": "markdown",
   "metadata": {
    "tags": []
   },
   "source": [
    "# Sciris demo\n",
    "\n",
    "This file demonstrates some of the main features of Sciris. For more information, please see the tutorials:\n",
    "\n",
    "http://docs.sciris.org/tutorials"
   ]
  },
  {
   "cell_type": "markdown",
   "metadata": {},
   "source": [
    "## Getting started\n",
    "\n",
    "First, let's make sure Sciris is installed:"
   ]
  },
  {
   "cell_type": "code",
   "execution_count": null,
   "metadata": {
    "tags": []
   },
   "outputs": [],
   "source": [
    "%pip install sciris"
   ]
  },
  {
   "cell_type": "code",
   "execution_count": null,
   "metadata": {
    "tags": []
   },
   "outputs": [],
   "source": [
    "# Let's import everything we'll need later\n",
    "import numpy as np\n",
    "import pandas as pd\n",
    "import sciris as sc\n",
    "import pylab as pl # Equivalent to \"import matplotlib.pyplot as plt\", but easier to type!"
   ]
  },
  {
   "cell_type": "markdown",
   "metadata": {},
   "source": [
    "## Array operations"
   ]
  },
  {
   "cell_type": "code",
   "execution_count": null,
   "metadata": {
    "tags": []
   },
   "outputs": [],
   "source": [
    "minval = 0.9\n",
    "data = np.random.rand(50)"
   ]
  },
  {
   "cell_type": "code",
   "execution_count": null,
   "metadata": {
    "tags": []
   },
   "outputs": [],
   "source": [
    "# Without Sciris\n",
    "inds = np.nonzero(data>minval)[0]\n",
    "print(f'The indices over {minval} were {\", \".join([str(i) for i in inds])}.')"
   ]
  },
  {
   "cell_type": "code",
   "execution_count": null,
   "metadata": {
    "tags": []
   },
   "outputs": [],
   "source": [
    "# With Sciris\n",
    "inds = sc.findinds(data>minval)\n",
    "print(f'The indices over {minval} were {sc.strjoin(inds)}.')"
   ]
  },
  {
   "cell_type": "markdown",
   "metadata": {
    "tags": []
   },
   "source": [
    "## Containers"
   ]
  },
  {
   "cell_type": "code",
   "execution_count": null,
   "metadata": {
    "tags": []
   },
   "outputs": [],
   "source": [
    "# Create an objdict\n",
    "data = sc.objdict(a=[1,2,3], b=[4,5,6]) \n",
    "print(data)"
   ]
  },
  {
   "cell_type": "code",
   "execution_count": null,
   "metadata": {
    "tags": []
   },
   "outputs": [],
   "source": [
    "# Demonstrate the objdict\n",
    "assert data.a == data['a'] == data[0] # Flexible options for indexing\n",
    "assert data[:].sum() == 21 # You can sum a dict!\n",
    "for i, key, value in data.enumitems():\n",
    "  print(f'Item {i} is named \"{key}\" and has value {value}')"
   ]
  },
  {
   "cell_type": "code",
   "execution_count": null,
   "metadata": {
    "tags": []
   },
   "outputs": [],
   "source": [
    "# Create some data\n",
    "dates = pd.date_range('2022-01-01', '2022-02-28') # Create a list of dates\n",
    "values = 1e6*np.random.randn(31+28)**2 # Generate some values\n",
    "outliers = values > 2*values.mean() # Find outliers"
   ]
  },
  {
   "cell_type": "code",
   "execution_count": null,
   "metadata": {
    "tags": []
   },
   "outputs": [],
   "source": [
    "# Plot without Sciris\n",
    "data = pd.DataFrame.from_dict(dict(x=dates, y=values, outliers=outliers)) # Shortcut to pd.DataFrame\n",
    "pl.scatter(data.x, data.y, c=data.outliers); # Vanilla Matplotlib!"
   ]
  },
  {
   "cell_type": "code",
   "execution_count": null,
   "metadata": {
    "tags": []
   },
   "outputs": [],
   "source": [
    "# Plot with Sciris\n",
    "sc.options(jupyter=True) # Use higher-resolution plotting\n",
    "data = sc.dataframe(x=dates, y=values, outliers=outliers) # Shortcut to pd.DataFrame\n",
    "pl.scatter(data.x, data.y, c=data.outliers) # Vanilla Matplotlib!\n",
    "sc.dateformatter() # Format a date axis nicely\n",
    "sc.commaticks() # Convert the y-axis to use commas\n",
    "sc.boxoff() # Turn off the box around the plot\n",
    "sc.setylim(); # Set y-limit (tight by default)"
   ]
  },
  {
   "cell_type": "markdown",
   "metadata": {},
   "source": [
    "## Saving and loading"
   ]
  },
  {
   "cell_type": "code",
   "execution_count": null,
   "metadata": {
    "tags": []
   },
   "outputs": [],
   "source": [
    "class Sim:\n",
    "    \n",
    "    def __init__(self, days, trials):\n",
    "        self.days = days\n",
    "        self.trials = trials\n",
    "    \n",
    "    def run(self):\n",
    "        self.x = np.arange(self.days)\n",
    "        self.y = np.cumsum(np.random.randn(self.days, self.trials)**3, axis=0)\n",
    "    \n",
    "    def plot(self):\n",
    "        with pl.style.context('sciris.fancy'): # Custom plot style\n",
    "            pl.plot(self.x, self.y, alpha=0.6)\n",
    "\n",
    "sim = Sim(days=100, trials=10)\n",
    "sim.run()\n",
    "sim.plot()"
   ]
  },
  {
   "cell_type": "code",
   "execution_count": null,
   "metadata": {
    "tags": []
   },
   "outputs": [],
   "source": [
    "# Save\n",
    "sc.save('my-sim.obj', sim) # Save any Python object to disk\n",
    "\n",
    "# Load and plot\n",
    "new_sim = sc.load('my-sim.obj') # Load any Python object\n",
    "new_sim.plot()"
   ]
  },
  {
   "cell_type": "code",
   "execution_count": null,
   "metadata": {
    "tags": []
   },
   "outputs": [],
   "source": [
    "# We can keep using the same object as new\n",
    "new_sim.run()\n",
    "new_sim.plot()"
   ]
  },
  {
   "cell_type": "markdown",
   "metadata": {},
   "source": [
    "## Parallelization"
   ]
  },
  {
   "cell_type": "code",
   "execution_count": null,
   "metadata": {
    "tags": []
   },
   "outputs": [],
   "source": [
    "# Define the function to parallelize\n",
    "def func(scale, x_offset, y_offset):\n",
    "    np.random.seed(scale)\n",
    "    data = sc.objdict() # Note the use of objdict to create a convenient container\n",
    "    data.scale = scale\n",
    "    data.x = x_offset+scale*np.random.randn(100)\n",
    "    data.y = y_offset+scale*np.random.randn(100)\n",
    "    return data\n",
    "\n",
    "x_offset = 5\n",
    "y_offset = 10\n",
    "scales = [40, 30, 20, 10] # Reverse order is easier to see when plotted"
   ]
  },
  {
   "cell_type": "code",
   "execution_count": null,
   "metadata": {
    "tags": []
   },
   "outputs": [],
   "source": [
    "# Run in parallel without Sciris\n",
    "arglist = [] # Construct arguments\n",
    "for scale in scales:\n",
    "    args = (scale, x_offset, y_offset)\n",
    "    arglist.append(args)\n",
    "\n",
    "def helper_func(args): # We can only pass a single argument\n",
    "    return func(*args)\n",
    "\n",
    "import concurrent.futures\n",
    "with concurrent.futures.ProcessPoolExecutor() as executor:\n",
    "    futures = executor.map(helper_func, arglist) # Actually run\n",
    "    results1 = list(futures)"
   ]
  },
  {
   "cell_type": "code",
   "execution_count": null,
   "metadata": {
    "tags": []
   },
   "outputs": [],
   "source": [
    "# Run in parallel with Sciris\n",
    "results = sc.parallelize(func, scales, x_offset=x_offset, y_offset=y_offset)"
   ]
  },
  {
   "cell_type": "code",
   "execution_count": null,
   "metadata": {
    "tags": []
   },
   "outputs": [],
   "source": [
    "# Plot\n",
    "for data in results:\n",
    "    pl.scatter(data.x, data.y, alpha=0.5, label=f'Scale {data.scale}')"
   ]
  },
  {
   "cell_type": "markdown",
   "metadata": {},
   "source": [
    "## Plotting\n",
    "\n",
    "(As promised! 😁)"
   ]
  },
  {
   "cell_type": "code",
   "execution_count": null,
   "metadata": {
    "tags": []
   },
   "outputs": [],
   "source": [
    "# Create the data\n",
    "raw = np.random.rand(20,20) - 0.2\n",
    "\n",
    "# Smooth it\n",
    "smooth = sc.gauss2d(raw, scale=2)\n",
    "\n",
    "# Plot and time it\n",
    "with sc.timer():\n",
    "    fig = pl.figure(figsize=(8,8))\n",
    "    sc.bar3d(smooth, fig=fig, cmap='orangeblue')\n",
    "    sc.figlayout()\n",
    "    sc.savefig('bars.png')\n",
    "    pl.show()"
   ]
  },
  {
   "cell_type": "markdown",
   "metadata": {},
   "source": [
    "## Odds & ends"
   ]
  },
  {
   "cell_type": "code",
   "execution_count": null,
   "metadata": {
    "tags": []
   },
   "outputs": [],
   "source": [
    "# Show that metadata was saved in the figure\n",
    "sc.loadmetadata('bars.png')"
   ]
  },
  {
   "cell_type": "code",
   "execution_count": null,
   "metadata": {
    "tags": []
   },
   "outputs": [],
   "source": [
    "# We can also get system metadata\n",
    "sc.metadata()"
   ]
  },
  {
   "cell_type": "code",
   "execution_count": null,
   "metadata": {
    "tags": []
   },
   "outputs": [],
   "source": [
    "# Check current CPU load\n",
    "sc.cpuload()"
   ]
  },
  {
   "cell_type": "code",
   "execution_count": null,
   "metadata": {
    "tags": []
   },
   "outputs": [],
   "source": [
    "# Check current CPU performance on a single core\n",
    "sc.benchmark()"
   ]
  },
  {
   "cell_type": "code",
   "execution_count": null,
   "metadata": {
    "tags": []
   },
   "outputs": [],
   "source": [
    "# ...on all cores\n",
    "sc.benchmark(parallel=True)"
   ]
  },
  {
   "cell_type": "code",
   "execution_count": null,
   "metadata": {
    "tags": []
   },
   "outputs": [],
   "source": [
    "# Quickly download two URLs in parallel\n",
    "data = sc.download(dict(Python='https://python.org', R='https://r-project.org'), save=False)"
   ]
  },
  {
   "cell_type": "code",
   "execution_count": null,
   "metadata": {
    "tags": []
   },
   "outputs": [],
   "source": [
    "# Let's check something...\n",
    "word = 'diversity'\n",
    "for site,html in data.items():\n",
    "    print(f'{site}: {html.lower().count(word)}')"
   ]
  }
 ],
 "metadata": {
  "kernelspec": {
   "display_name": "Python 3 (ipykernel)",
   "language": "python",
   "name": "python3"
  },
  "language_info": {
   "codemirror_mode": {
    "name": "ipython",
    "version": 3
   },
   "file_extension": ".py",
   "mimetype": "text/x-python",
   "name": "python",
   "nbconvert_exporter": "python",
   "pygments_lexer": "ipython3",
   "version": "3.11.3"
  },
  "toc": {
   "base_numbering": 1,
   "nav_menu": {},
   "number_sections": true,
   "sideBar": true,
   "skip_h1_title": false,
   "title_cell": "Table of Contents",
   "title_sidebar": "Contents",
   "toc_cell": false,
   "toc_position": {},
   "toc_section_display": true,
   "toc_window_display": false
  }
 },
 "nbformat": 4,
 "nbformat_minor": 4
}
