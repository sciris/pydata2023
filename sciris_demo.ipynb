{
 "cells": [
  {
   "cell_type": "markdown",
   "id": "ef82a1f9-422f-41ae-9542-8f89467a49ff",
   "metadata": {},
   "source": [
    "# Sciris demo\n",
    "\n",
    "This file demonstrates some of the main features of Sciris. For more information, please see the tutorials:\n",
    "\n",
    "http://docs.sciris.org/tutorials"
   ]
  },
  {
   "cell_type": "markdown",
   "id": "8fb81534-0995-4085-acb9-a79589647725",
   "metadata": {},
   "source": [
    "## Getting started\n",
    "\n",
    "First, let's make sure Sciris is installed:"
   ]
  },
  {
   "cell_type": "code",
   "execution_count": null,
   "id": "2a3bbe4b-f646-487b-a9ff-564b39554d4f",
   "metadata": {
    "scrolled": true
   },
   "outputs": [],
   "source": [
    "!pip install sciris"
   ]
  },
  {
   "cell_type": "markdown",
   "id": "3271f7d7-d017-4d5a-acca-400edbe8f760",
   "metadata": {},
   "source": [
    "## Containers"
   ]
  }
 ],
 "metadata": {
  "kernelspec": {
   "display_name": "Python 3 (ipykernel)",
   "language": "python",
   "name": "python3"
  },
  "language_info": {
   "codemirror_mode": {
    "name": "ipython",
    "version": 3
   },
   "file_extension": ".py",
   "mimetype": "text/x-python",
   "name": "python",
   "nbconvert_exporter": "python",
   "pygments_lexer": "ipython3",
   "version": "3.11.5"
  }
 },
 "nbformat": 4,
 "nbformat_minor": 5
}
